{
 "cells": [
  {
   "cell_type": "code",
   "execution_count": 9,
   "id": "e4e58985-4b8b-45e5-a3e7-dbe1dfaa904d",
   "metadata": {},
   "outputs": [],
   "source": [
    "import requests\n",
    "from bs4 import BeautifulSoup\n",
    "from io import StringIO\n",
    "import pandas as pd\n",
    "import time\n",
    "\n",
    "standings_url = \"https://fbref.com/en/comps/9/Premier-League-Stats\"\n",
    "years = list(range(2024,1992,-1))\n",
    "premTable = []\n",
    "for year in years:\n",
    "    data = requests.get(standings_url)\n",
    "    scrapedData = data.text\n",
    "    soup = BeautifulSoup(data.text)\n",
    "    standings_table= soup.select('table.stats_table')[0]\n",
    "    \n",
    "    previous_season = soup.select(\"a.prev\")[0].get(\"href\") #para agarrar el link de la temporada pasada, el prev busca a todo el que sea clase prev y el [0] es para agarrar el primero que salga.\n",
    "    standings_url = f\"https://fbref.com{previous_season}\"\n",
    "    statsTable = pd.read_html(StringIO(scrapedData), match=\"Premier League\")[0] #match es para que agarre la tabla que quieres\n",
    "    statsTable[\"Season\"] = year\n",
    "    premTable.append(statsTable)\n",
    "    \n",
    "    time.sleep(5) # para que no lo hagas muy rapido, y no te bloqueen. "
   ]
  },
  {
   "cell_type": "code",
   "execution_count": 10,
   "id": "dc0fc2ea-3150-475b-9923-a8ca6c06bdc7",
   "metadata": {},
   "outputs": [],
   "source": [
    "premDf = pd.concat(premTable)\n",
    "premDf.to_csv(\"PremTables.csv\")"
   ]
  },
  {
   "cell_type": "code",
   "execution_count": null,
   "id": "70dd2efb-4030-4c10-959c-a02d506a9342",
   "metadata": {},
   "outputs": [],
   "source": []
  }
 ],
 "metadata": {
  "kernelspec": {
   "display_name": "Python 3 (ipykernel)",
   "language": "python",
   "name": "python3"
  },
  "language_info": {
   "codemirror_mode": {
    "name": "ipython",
    "version": 3
   },
   "file_extension": ".py",
   "mimetype": "text/x-python",
   "name": "python",
   "nbconvert_exporter": "python",
   "pygments_lexer": "ipython3",
   "version": "3.12.3"
  }
 },
 "nbformat": 4,
 "nbformat_minor": 5
}
