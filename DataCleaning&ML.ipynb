{
 "cells": [
  {
   "cell_type": "code",
   "execution_count": 1,
   "id": "424d9237-51b3-4afb-afd0-744963f34ca5",
   "metadata": {},
   "outputs": [],
   "source": [
    "import pandas as pd"
   ]
  },
  {
   "cell_type": "code",
   "execution_count": 2,
   "id": "01cd2e6c-00a2-4f0c-a74e-ca898ad838d6",
   "metadata": {},
   "outputs": [],
   "source": [
    "playerstats = pd.read_csv(\"AllPlayerStats.csv\", low_memory=False)"
   ]
  },
  {
   "cell_type": "code",
   "execution_count": 3,
   "id": "18e16cf2-9130-4f12-aa76-8a5f7e750dcf",
   "metadata": {},
   "outputs": [],
   "source": [
    "playerstats = playerstats.rename(columns={'Unnamed: 36': 'Season'})"
   ]
  },
  {
   "cell_type": "code",
   "execution_count": 4,
   "id": "57f0ba0d-7b1d-47ee-aa57-57c2869cd703",
   "metadata": {},
   "outputs": [],
   "source": [
    "playerstats=playerstats[[\"Player\",\"Pos\", \"Squad\", \"MP\",\"Min\", \"Gls\", \"Ast\",\"G+A\", \"PK\", \"Season\"]]"
   ]
  },
  {
   "cell_type": "code",
   "execution_count": 5,
   "id": "59e89f94-cac5-4eac-a695-4f03b9fb1372",
   "metadata": {},
   "outputs": [],
   "source": [
    "table = pd.read_csv(\"PremTables.csv\")\n",
    "pots = pd.read_csv(\"POTSWinner.csv\")"
   ]
  },
  {
   "cell_type": "code",
   "execution_count": 6,
   "id": "f2ad54c2-9e1b-4119-9335-95c609ac0539",
   "metadata": {},
   "outputs": [],
   "source": [
    "table[[\"Notes\"]] = table[[\"Notes\"]].fillna(\"No notes\")"
   ]
  },
  {
   "cell_type": "code",
   "execution_count": 7,
   "id": "51d2e379-9234-44d3-bd89-49cdf45367d9",
   "metadata": {},
   "outputs": [],
   "source": [
    "playerstats = playerstats[~playerstats[\"MP\"].str.contains(\"MP\")] #it excludes the row with the parameters given in contain \n",
    "                                                                 #if the column you give first has a row with the parameter provided in contains it deletes that row"
   ]
  },
  {
   "cell_type": "code",
   "execution_count": 8,
   "id": "13f01411-b867-4611-ba0e-89cfdf7c3f61",
   "metadata": {},
   "outputs": [],
   "source": [
    "table = table[[\"Rk\", \"Squad\", \"W\", \"D\", \"L\",\"GF\",\"GA\", \"Pts\", \"Season\"]]"
   ]
  },
  {
   "cell_type": "code",
   "execution_count": 9,
   "id": "fc210a21-a3e7-46db-84dc-4b14554d69d3",
   "metadata": {},
   "outputs": [],
   "source": [
    "combined = playerstats.merge(table, how=\"outer\", on= [\"Squad\", \"Season\"])\n",
    "combined = combined.merge(pots, how = \"outer\", on=[\"Squad\", \"Player\", \"Season\"])\n",
    "del combined[\"Unnamed: 0\"]\n",
    "del combined[\"Nationality\"]"
   ]
  },
  {
   "cell_type": "code",
   "execution_count": 10,
   "id": "47889d46-647c-47e2-986a-4b41606da64e",
   "metadata": {},
   "outputs": [
    {
     "name": "stderr",
     "output_type": "stream",
     "text": [
      "C:\\Users\\Jorge HMV\\AppData\\Local\\Temp\\ipykernel_45504\\249434140.py:2: FutureWarning: errors='ignore' is deprecated and will raise in a future version. Use to_numeric without passing `errors` and catch exceptions explicitly instead\n",
      "  combined = combined.apply(pd.to_numeric, errors=\"ignore\")\n"
     ]
    }
   ],
   "source": [
    "#outer es para que se haga merge al final de la tabla que ya tenias, y el otro es para que combine el squad y año en el que paso la temporada con el jugador. \n",
    "combined = combined.apply(pd.to_numeric, errors=\"ignore\")"
   ]
  },
  {
   "cell_type": "code",
   "execution_count": 11,
   "id": "e590109f-7377-4d1c-ac94-09827db87816",
   "metadata": {},
   "outputs": [],
   "source": [
    "#en machine learning es mas facil trabajar con valores numericos asi que convertimos a numero aquello que se pueda convertir\n",
    "#combined.dtypes #nos sirve para checar que se cambio y que no"
   ]
  },
  {
   "cell_type": "code",
   "execution_count": 12,
   "id": "6dbd8cbf-e94e-4f3d-be95-ae10710815c9",
   "metadata": {},
   "outputs": [],
   "source": [
    "combined.to_csv(\"PremierPOTS.csv\")"
   ]
  },
  {
   "cell_type": "code",
   "execution_count": 13,
   "id": "c53dcd7e-9225-4378-bf28-9d2d670e64d9",
   "metadata": {},
   "outputs": [],
   "source": [
    "goalScorer = combined[combined[\"MP\"]>30].sort_values(\"Gls\", ascending=False).head(10) #acomoda la informacion para que salgan los que han jugado mas de 30 partidos y lo acomoda por quien metio mas goles"
   ]
  },
  {
   "cell_type": "code",
   "execution_count": 14,
   "id": "a55c8f5d-a00f-4fa3-8493-928bbcf4c86a",
   "metadata": {},
   "outputs": [],
   "source": [
    "combined = combined.fillna(0)"
   ]
  },
  {
   "cell_type": "code",
   "execution_count": 15,
   "id": "3cfaa795-f5f7-4d59-8ef9-467eef52f3b8",
   "metadata": {},
   "outputs": [],
   "source": [
    "#pd.isnull(combined).sum() #check if there is null values"
   ]
  },
  {
   "cell_type": "code",
   "execution_count": 16,
   "id": "c4d65f27-1e0f-4b8c-94f7-ac4951c95e6f",
   "metadata": {},
   "outputs": [],
   "source": [
    "#combined[pd.isnull(combined[\"Gls\"])]"
   ]
  },
  {
   "cell_type": "code",
   "execution_count": 17,
   "id": "81930d1d-6e2b-4e5e-a416-c8491eb672ae",
   "metadata": {},
   "outputs": [],
   "source": [
    "#highest_GA = combined.groupby(\"Season\").apply(lambda x: x.sort_values(\"G+A\", ascending= False).head(1))"
   ]
  },
  {
   "cell_type": "code",
   "execution_count": 18,
   "id": "cba8a11b-61dd-448b-9072-8e236992e9a2",
   "metadata": {},
   "outputs": [],
   "source": [
    "#winners = combined.groupby(\"Season\").apply(lambda x: x.sort_values(\"Winner\", ascending= False).head(1)) #sort by winner and season"
   ]
  },
  {
   "cell_type": "code",
   "execution_count": 19,
   "id": "7dc1ed08-1924-4def-b016-d07f9d91ba48",
   "metadata": {},
   "outputs": [
    {
     "data": {
      "text/plain": [
       "Index(['Player', 'Pos', 'Squad', 'MP', 'Min', 'Gls', 'Ast', 'G+A', 'PK',\n",
       "       'Season', 'Rk', 'W', 'D', 'L', 'GF', 'GA', 'Pts', 'Winner'],\n",
       "      dtype='object')"
      ]
     },
     "execution_count": 19,
     "metadata": {},
     "output_type": "execute_result"
    }
   ],
   "source": [
    "combined.columns"
   ]
  },
  {
   "cell_type": "code",
   "execution_count": 20,
   "id": "935e7b4f-4b4e-4594-820e-27cfac4f4342",
   "metadata": {},
   "outputs": [],
   "source": [
    "predictors = [ 'MP', 'Min', 'Gls', 'Ast', 'G+A', 'PK', 'Season',\n",
    "       'Rk', 'W', 'D', 'L','GF', 'GA', 'Pts']"
   ]
  },
  {
   "cell_type": "code",
   "execution_count": 21,
   "id": "60b1c1e5-b1e4-494d-9190-0548c44fe170",
   "metadata": {},
   "outputs": [],
   "source": [
    "train = combined[(combined[\"Season\"] < 2022) & (combined[\"Season\"] > 1994)]"
   ]
  },
  {
   "cell_type": "code",
   "execution_count": 22,
   "id": "7888b187-6bf4-4d78-92cb-e618400d1337",
   "metadata": {},
   "outputs": [],
   "source": [
    "test = combined[combined[\"Season\"] == 2022]"
   ]
  },
  {
   "cell_type": "code",
   "execution_count": 23,
   "id": "427f093a-cc43-45b4-87e4-421e8e3b732a",
   "metadata": {},
   "outputs": [],
   "source": [
    "from sklearn.linear_model import Ridge"
   ]
  },
  {
   "cell_type": "code",
   "execution_count": 24,
   "id": "fe35cbab-902a-4d77-a674-19ebcb65b02c",
   "metadata": {},
   "outputs": [],
   "source": [
    "reg = Ridge(alpha=.1)\n",
    "reg.fit(train[predictors], train[\"Winner\"])\n",
    "predictions = reg.predict(test[predictors]) #entrenas al modelo con la informacion de train poniendolo a prueba en test"
   ]
  },
  {
   "cell_type": "code",
   "execution_count": 25,
   "id": "7153895d-1ff6-4414-9d49-4629c76813ce",
   "metadata": {},
   "outputs": [],
   "source": [
    "predictions = pd.DataFrame(predictions, columns =[\"Predictions\"], index = test.index) #hacer mas leible el formato con pandas"
   ]
  },
  {
   "cell_type": "code",
   "execution_count": 26,
   "id": "451c89aa-0487-42d8-be13-6dc035f4990c",
   "metadata": {},
   "outputs": [],
   "source": [
    "combination = pd.concat([test[[\"Player\",\"Winner\"]], predictions], axis=1)"
   ]
  },
  {
   "cell_type": "code",
   "execution_count": 27,
   "id": "49c29c41-7255-44cc-8991-e3e30cdef3b1",
   "metadata": {},
   "outputs": [],
   "source": [
    "combination = combination.sort_values(\"Winner\", ascending=False)\n",
    "combination[\"Rk\"] = list(range(1, combination.shape[0]+1))"
   ]
  },
  {
   "cell_type": "code",
   "execution_count": 28,
   "id": "35846377-0ffc-4133-9431-bb4abf618fe9",
   "metadata": {},
   "outputs": [],
   "source": [
    "combination = combination.sort_values(\"Predictions\", ascending=False)\n",
    "combination[\"PredictedRk\"] = list(range(1, combination.shape[0]+1))"
   ]
  },
  {
   "cell_type": "code",
   "execution_count": 41,
   "id": "ccc8c0e3-1bd0-4efe-ae10-da1c7542743c",
   "metadata": {},
   "outputs": [],
   "source": [
    "def find_ap(df): #average precision\n",
    "    actual = df.sort_values(\"Winner\", ascending=False).head(1)\n",
    "    predicted = df.sort_values(\"Predictions\", ascending=False)\n",
    "    ps=[]\n",
    "    found=0\n",
    "    seen=1\n",
    "    for index, row in predicted.iterrows():\n",
    "        if row[\"Player\"] in actual [\"Player\"].values:\n",
    "            found +=1\n",
    "            ps.append(found/seen)\n",
    "        seen+=1\n",
    "    return sum(ps)/ len(ps) #error metric"
   ]
  },
  {
   "cell_type": "code",
   "execution_count": 30,
   "id": "9b344d2d-ccb2-4bdb-a2da-38a96dbac3ad",
   "metadata": {},
   "outputs": [],
   "source": [
    "years= list(range(1995,2023))\n",
    "aps = []\n",
    "allpredictions = []\n",
    "for year in years[5:]: #entrenas a los modelos y vas incrementando el año cada vez\n",
    "    \n",
    "    train = combined[(combined[\"Season\"] < year) & (combined[\"Season\"] > 1994)]\n",
    "    test = combined[combined[\"Season\"] == year]\n",
    "    \n",
    "    reg = Ridge(alpha=.1)\n",
    "    reg.fit(train[predictors], train[\"Winner\"])\n",
    "    predictions = reg.predict(test[predictors]) \n",
    "\n",
    "    predictions = pd.DataFrame(predictions, columns =[\"Predictions\"], index = test.index)\n",
    "\n",
    "    combination = pd.concat([test[[\"Player\",\"Winner\"]], predictions], axis=1)\n",
    "    \n",
    "    allpredictions.append(combination)\n",
    "    aps.append(find_ap(combination))"
   ]
  },
  {
   "cell_type": "code",
   "execution_count": 31,
   "id": "95b85300-d0e8-4814-841f-523f4bdf2fa8",
   "metadata": {},
   "outputs": [],
   "source": [
    "def addranks(df):\n",
    "    df = df.sort_values(\"Winner\", ascending=False)\n",
    "    df['Rk'] = list(range(1, df.shape[0]+1))\n",
    "    df = df.sort_values(\"Predictions\", ascending=False)\n",
    "    df['PredictedRK'] = list(range(1, df.shape[0]+1))\n",
    "    df['Diff'] = df[\"Rk\"] - df[\"PredictedRK\"]\n",
    "    return df"
   ]
  },
  {
   "cell_type": "code",
   "execution_count": 32,
   "id": "f83b3a6f-b7b5-4115-bda4-a60cc46c4516",
   "metadata": {},
   "outputs": [],
   "source": [
    "#add_ranks(all_predictions[12]).sort_values(\"Winner\", ascending=False)"
   ]
  },
  {
   "cell_type": "code",
   "execution_count": 33,
   "id": "135c1e5f-455c-4077-ae44-9e37a4d209ef",
   "metadata": {},
   "outputs": [
    {
     "data": {
      "text/plain": [
       "0.46418627203859764"
      ]
     },
     "execution_count": 33,
     "metadata": {},
     "output_type": "execute_result"
    }
   ],
   "source": [
    "sum(aps)/len(aps)"
   ]
  },
  {
   "cell_type": "code",
   "execution_count": 34,
   "id": "ab44ec8d-b7cb-4d84-bf0b-505d09410ddd",
   "metadata": {},
   "outputs": [
    {
     "data": {
      "text/html": [
       "<div>\n",
       "<style scoped>\n",
       "    .dataframe tbody tr th:only-of-type {\n",
       "        vertical-align: middle;\n",
       "    }\n",
       "\n",
       "    .dataframe tbody tr th {\n",
       "        vertical-align: top;\n",
       "    }\n",
       "\n",
       "    .dataframe thead th {\n",
       "        text-align: right;\n",
       "    }\n",
       "</style>\n",
       "<table border=\"1\" class=\"dataframe\">\n",
       "  <thead>\n",
       "    <tr style=\"text-align: right;\">\n",
       "      <th></th>\n",
       "      <th>Player</th>\n",
       "      <th>Winner</th>\n",
       "      <th>Predictions</th>\n",
       "      <th>Rk</th>\n",
       "      <th>PredictedRK</th>\n",
       "      <th>Diff</th>\n",
       "    </tr>\n",
       "  </thead>\n",
       "  <tbody>\n",
       "    <tr>\n",
       "      <th>631</th>\n",
       "      <td>Patrick Vieira</td>\n",
       "      <td>1.0</td>\n",
       "      <td>-0.013448</td>\n",
       "      <td>1</td>\n",
       "      <td>74</td>\n",
       "      <td>-73</td>\n",
       "    </tr>\n",
       "    <tr>\n",
       "      <th>14184</th>\n",
       "      <td>Kevin Phillips</td>\n",
       "      <td>0.0</td>\n",
       "      <td>0.005843</td>\n",
       "      <td>484</td>\n",
       "      <td>4</td>\n",
       "      <td>480</td>\n",
       "    </tr>\n",
       "    <tr>\n",
       "      <th>10411</th>\n",
       "      <td>Alen Bokšić</td>\n",
       "      <td>0.0</td>\n",
       "      <td>0.004441</td>\n",
       "      <td>388</td>\n",
       "      <td>5</td>\n",
       "      <td>383</td>\n",
       "    </tr>\n",
       "    <tr>\n",
       "      <th>807</th>\n",
       "      <td>Thierry Henry</td>\n",
       "      <td>0.0</td>\n",
       "      <td>0.003583</td>\n",
       "      <td>24</td>\n",
       "      <td>6</td>\n",
       "      <td>18</td>\n",
       "    </tr>\n",
       "    <tr>\n",
       "      <th>7358</th>\n",
       "      <td>Mark Viduka</td>\n",
       "      <td>0.0</td>\n",
       "      <td>0.001478</td>\n",
       "      <td>264</td>\n",
       "      <td>7</td>\n",
       "      <td>257</td>\n",
       "    </tr>\n",
       "    <tr>\n",
       "      <th>...</th>\n",
       "      <td>...</td>\n",
       "      <td>...</td>\n",
       "      <td>...</td>\n",
       "      <td>...</td>\n",
       "      <td>...</td>\n",
       "      <td>...</td>\n",
       "    </tr>\n",
       "    <tr>\n",
       "      <th>7509</th>\n",
       "      <td>Andy Impey</td>\n",
       "      <td>0.0</td>\n",
       "      <td>-0.024721</td>\n",
       "      <td>275</td>\n",
       "      <td>555</td>\n",
       "      <td>-280</td>\n",
       "    </tr>\n",
       "    <tr>\n",
       "      <th>13637</th>\n",
       "      <td>Uwe Rösler</td>\n",
       "      <td>0.0</td>\n",
       "      <td>-0.024817</td>\n",
       "      <td>467</td>\n",
       "      <td>556</td>\n",
       "      <td>-89</td>\n",
       "    </tr>\n",
       "    <tr>\n",
       "      <th>7877</th>\n",
       "      <td>Steve Guppy</td>\n",
       "      <td>0.0</td>\n",
       "      <td>-0.025145</td>\n",
       "      <td>298</td>\n",
       "      <td>557</td>\n",
       "      <td>-259</td>\n",
       "    </tr>\n",
       "    <tr>\n",
       "      <th>11267</th>\n",
       "      <td>Lomana LuaLua</td>\n",
       "      <td>0.0</td>\n",
       "      <td>-0.025477</td>\n",
       "      <td>433</td>\n",
       "      <td>558</td>\n",
       "      <td>-125</td>\n",
       "    </tr>\n",
       "    <tr>\n",
       "      <th>16627</th>\n",
       "      <td>Paolo Di Canio</td>\n",
       "      <td>0.0</td>\n",
       "      <td>0.005885</td>\n",
       "      <td>545</td>\n",
       "      <td>3</td>\n",
       "      <td>542</td>\n",
       "    </tr>\n",
       "  </tbody>\n",
       "</table>\n",
       "<p>559 rows × 6 columns</p>\n",
       "</div>"
      ],
      "text/plain": [
       "               Player  Winner  Predictions   Rk  PredictedRK  Diff\n",
       "631    Patrick Vieira     1.0    -0.013448    1           74   -73\n",
       "14184  Kevin Phillips     0.0     0.005843  484            4   480\n",
       "10411     Alen Bokšić     0.0     0.004441  388            5   383\n",
       "807     Thierry Henry     0.0     0.003583   24            6    18\n",
       "7358      Mark Viduka     0.0     0.001478  264            7   257\n",
       "...               ...     ...          ...  ...          ...   ...\n",
       "7509       Andy Impey     0.0    -0.024721  275          555  -280\n",
       "13637      Uwe Rösler     0.0    -0.024817  467          556   -89\n",
       "7877      Steve Guppy     0.0    -0.025145  298          557  -259\n",
       "11267   Lomana LuaLua     0.0    -0.025477  433          558  -125\n",
       "16627  Paolo Di Canio     0.0     0.005885  545            3   542\n",
       "\n",
       "[559 rows x 6 columns]"
      ]
     },
     "execution_count": 34,
     "metadata": {},
     "output_type": "execute_result"
    }
   ],
   "source": [
    "addranks(allpredictions[1]).sort_values(\"Winner\", ascending=False)"
   ]
  },
  {
   "cell_type": "code",
   "execution_count": 57,
   "id": "e8472950-57b6-404e-9eb2-03ddee8905f3",
   "metadata": {},
   "outputs": [],
   "source": [
    "from sklearn.preprocessing import StandardScaler\n",
    "\n",
    "sc = StandardScaler()"
   ]
  },
  {
   "cell_type": "code",
   "execution_count": 60,
   "id": "07743c2d-10e5-440d-a5bd-2b5b3581e308",
   "metadata": {},
   "outputs": [],
   "source": [
    "def backtest(df, model, years, predictors):\n",
    "    aps = []\n",
    "    allpredictions = []\n",
    "    for year in years: #entrenas a los modelos y vas incrementando el año cada vez\n",
    "        \n",
    "        train = df[(df[\"Season\"] < year) & (df[\"Season\"] > 1994)]\n",
    "        test = df[df[\"Season\"] == year]\n",
    "        \n",
    "        model.fit(train[predictors], train[\"Winner\"])\n",
    "        predictions = model.predict(test[predictors]) \n",
    "    \n",
    "        predictions = pd.DataFrame(predictions, columns =[\"Predictions\"], index = test.index)  #crea la columna y pone adentro las predicciones\n",
    "        \n",
    "        combination = pd.concat([test[[\"Player\",\"Winner\"]], predictions], axis=1) #junta el df del año en que se testeo con las predicciones, juntando \n",
    "        combination = combination = addranks(combination)\n",
    "        \n",
    "        allpredictions.append(combination)\n",
    "        aps.append(find_ap(combination))\n",
    "    return sum(aps)/len(aps), aps, pd.concat(allpredictions)"
   ]
  },
  {
   "cell_type": "code",
   "execution_count": 43,
   "id": "3d59fe3b-6af4-4504-9751-cd898f0280d9",
   "metadata": {},
   "outputs": [],
   "source": [
    "mean_ap, aps, allpredictions = backtest(combined, reg, years[5:], predictors)"
   ]
  },
  {
   "cell_type": "code",
   "execution_count": 45,
   "id": "dfa1b62c-a913-4244-aab5-1b6a2e985926",
   "metadata": {},
   "outputs": [],
   "source": [
    "combined[\"NPos\"] = combined[\"Pos\"].astype(\"category\").cat.codes"
   ]
  },
  {
   "cell_type": "code",
   "execution_count": 47,
   "id": "888a9e7a-4dc3-4306-80a2-362a8e94f730",
   "metadata": {},
   "outputs": [],
   "source": [
    "combined[\"NSquad\"] = combined[\"Squad\"].astype(\"category\").cat.codes"
   ]
  },
  {
   "cell_type": "code",
   "execution_count": 48,
   "id": "3b6a61ff-9b55-42b3-a89c-3fe7d68d192b",
   "metadata": {},
   "outputs": [
    {
     "data": {
      "text/html": [
       "<div>\n",
       "<style scoped>\n",
       "    .dataframe tbody tr th:only-of-type {\n",
       "        vertical-align: middle;\n",
       "    }\n",
       "\n",
       "    .dataframe tbody tr th {\n",
       "        vertical-align: top;\n",
       "    }\n",
       "\n",
       "    .dataframe thead th {\n",
       "        text-align: right;\n",
       "    }\n",
       "</style>\n",
       "<table border=\"1\" class=\"dataframe\">\n",
       "  <thead>\n",
       "    <tr style=\"text-align: right;\">\n",
       "      <th></th>\n",
       "      <th>Player</th>\n",
       "      <th>Pos</th>\n",
       "      <th>Squad</th>\n",
       "      <th>MP</th>\n",
       "      <th>Min</th>\n",
       "      <th>Gls</th>\n",
       "      <th>Ast</th>\n",
       "      <th>G+A</th>\n",
       "      <th>PK</th>\n",
       "      <th>Season</th>\n",
       "      <th>Rk</th>\n",
       "      <th>W</th>\n",
       "      <th>D</th>\n",
       "      <th>L</th>\n",
       "      <th>GF</th>\n",
       "      <th>GA</th>\n",
       "      <th>Pts</th>\n",
       "      <th>Winner</th>\n",
       "      <th>NPos</th>\n",
       "      <th>NSquad</th>\n",
       "    </tr>\n",
       "  </thead>\n",
       "  <tbody>\n",
       "    <tr>\n",
       "      <th>0</th>\n",
       "      <td>Aaron Ramsdale</td>\n",
       "      <td>GK</td>\n",
       "      <td>Arsenal</td>\n",
       "      <td>34.0</td>\n",
       "      <td>3060.0</td>\n",
       "      <td>0.0</td>\n",
       "      <td>0.0</td>\n",
       "      <td>0.0</td>\n",
       "      <td>0.0</td>\n",
       "      <td>2022</td>\n",
       "      <td>5.0</td>\n",
       "      <td>22.0</td>\n",
       "      <td>3.0</td>\n",
       "      <td>13.0</td>\n",
       "      <td>61.0</td>\n",
       "      <td>48.0</td>\n",
       "      <td>69.0</td>\n",
       "      <td>0.0</td>\n",
       "      <td>7</td>\n",
       "      <td>0</td>\n",
       "    </tr>\n",
       "    <tr>\n",
       "      <th>1</th>\n",
       "      <td>Aaron Ramsdale</td>\n",
       "      <td>GK</td>\n",
       "      <td>Arsenal</td>\n",
       "      <td>38.0</td>\n",
       "      <td>3420.0</td>\n",
       "      <td>0.0</td>\n",
       "      <td>0.0</td>\n",
       "      <td>0.0</td>\n",
       "      <td>0.0</td>\n",
       "      <td>2023</td>\n",
       "      <td>2.0</td>\n",
       "      <td>26.0</td>\n",
       "      <td>6.0</td>\n",
       "      <td>6.0</td>\n",
       "      <td>88.0</td>\n",
       "      <td>43.0</td>\n",
       "      <td>84.0</td>\n",
       "      <td>0.0</td>\n",
       "      <td>7</td>\n",
       "      <td>0</td>\n",
       "    </tr>\n",
       "    <tr>\n",
       "      <th>2</th>\n",
       "      <td>Aaron Ramsdale</td>\n",
       "      <td>GK</td>\n",
       "      <td>Arsenal</td>\n",
       "      <td>6.0</td>\n",
       "      <td>540.0</td>\n",
       "      <td>0.0</td>\n",
       "      <td>0.0</td>\n",
       "      <td>0.0</td>\n",
       "      <td>0.0</td>\n",
       "      <td>2024</td>\n",
       "      <td>2.0</td>\n",
       "      <td>28.0</td>\n",
       "      <td>5.0</td>\n",
       "      <td>5.0</td>\n",
       "      <td>91.0</td>\n",
       "      <td>29.0</td>\n",
       "      <td>89.0</td>\n",
       "      <td>0.0</td>\n",
       "      <td>7</td>\n",
       "      <td>0</td>\n",
       "    </tr>\n",
       "    <tr>\n",
       "      <th>3</th>\n",
       "      <td>Aaron Ramsey</td>\n",
       "      <td>MF</td>\n",
       "      <td>Arsenal</td>\n",
       "      <td>9.0</td>\n",
       "      <td>230.0</td>\n",
       "      <td>0.0</td>\n",
       "      <td>1.0</td>\n",
       "      <td>1.0</td>\n",
       "      <td>0.0</td>\n",
       "      <td>2009</td>\n",
       "      <td>4.0</td>\n",
       "      <td>20.0</td>\n",
       "      <td>12.0</td>\n",
       "      <td>6.0</td>\n",
       "      <td>68.0</td>\n",
       "      <td>37.0</td>\n",
       "      <td>72.0</td>\n",
       "      <td>0.0</td>\n",
       "      <td>8</td>\n",
       "      <td>0</td>\n",
       "    </tr>\n",
       "    <tr>\n",
       "      <th>4</th>\n",
       "      <td>Aaron Ramsey</td>\n",
       "      <td>MF</td>\n",
       "      <td>Arsenal</td>\n",
       "      <td>18.0</td>\n",
       "      <td>786.0</td>\n",
       "      <td>3.0</td>\n",
       "      <td>3.0</td>\n",
       "      <td>6.0</td>\n",
       "      <td>0.0</td>\n",
       "      <td>2010</td>\n",
       "      <td>3.0</td>\n",
       "      <td>23.0</td>\n",
       "      <td>6.0</td>\n",
       "      <td>9.0</td>\n",
       "      <td>83.0</td>\n",
       "      <td>41.0</td>\n",
       "      <td>75.0</td>\n",
       "      <td>0.0</td>\n",
       "      <td>8</td>\n",
       "      <td>0</td>\n",
       "    </tr>\n",
       "  </tbody>\n",
       "</table>\n",
       "</div>"
      ],
      "text/plain": [
       "           Player Pos    Squad    MP     Min  Gls  Ast  G+A   PK  Season   Rk  \\\n",
       "0  Aaron Ramsdale  GK  Arsenal  34.0  3060.0  0.0  0.0  0.0  0.0    2022  5.0   \n",
       "1  Aaron Ramsdale  GK  Arsenal  38.0  3420.0  0.0  0.0  0.0  0.0    2023  2.0   \n",
       "2  Aaron Ramsdale  GK  Arsenal   6.0   540.0  0.0  0.0  0.0  0.0    2024  2.0   \n",
       "3    Aaron Ramsey  MF  Arsenal   9.0   230.0  0.0  1.0  1.0  0.0    2009  4.0   \n",
       "4    Aaron Ramsey  MF  Arsenal  18.0   786.0  3.0  3.0  6.0  0.0    2010  3.0   \n",
       "\n",
       "      W     D     L    GF    GA   Pts  Winner  NPos  NSquad  \n",
       "0  22.0   3.0  13.0  61.0  48.0  69.0     0.0     7       0  \n",
       "1  26.0   6.0   6.0  88.0  43.0  84.0     0.0     7       0  \n",
       "2  28.0   5.0   5.0  91.0  29.0  89.0     0.0     7       0  \n",
       "3  20.0  12.0   6.0  68.0  37.0  72.0     0.0     8       0  \n",
       "4  23.0   6.0   9.0  83.0  41.0  75.0     0.0     8       0  "
      ]
     },
     "execution_count": 48,
     "metadata": {},
     "output_type": "execute_result"
    }
   ],
   "source": [
    "combined.head()"
   ]
  },
  {
   "cell_type": "code",
   "execution_count": 50,
   "id": "7dfcfc1d-f411-4c62-8980-7fbcbfc41516",
   "metadata": {},
   "outputs": [],
   "source": [
    "from sklearn.ensemble import RandomForestRegressor"
   ]
  },
  {
   "cell_type": "code",
   "execution_count": 68,
   "id": "5fc144ac-805e-44cf-b450-176ef098291c",
   "metadata": {},
   "outputs": [],
   "source": [
    "rf = RandomForestRegressor(n_estimators=50, random_state=1, min_samples_split=5) #decision trees, if you run twice get the same result, the more accurate it will be the lower it is\n",
    "mean_ap, aps, allpredictions = backtest(combined, rf, years[5:], predictors + [\"NPos\",\"NSquad\"])"
   ]
  },
  {
   "cell_type": "code",
   "execution_count": 69,
   "id": "d3bdd5ea-3b16-4643-bb9a-5f99b253eeb2",
   "metadata": {},
   "outputs": [
    {
     "data": {
      "text/plain": [
       "0.39738903792702607"
      ]
     },
     "execution_count": 69,
     "metadata": {},
     "output_type": "execute_result"
    }
   ],
   "source": [
    "mean_ap"
   ]
  },
  {
   "cell_type": "code",
   "execution_count": 70,
   "id": "0247d3a9-4286-47fb-86d6-4d2917b39766",
   "metadata": {},
   "outputs": [],
   "source": [
    "mean_ap, aps, allpredictions = backtest(combined, reg, years[5:], predictors)"
   ]
  },
  {
   "cell_type": "code",
   "execution_count": 71,
   "id": "1c7fb48f-4653-41d5-9c51-b8f113d601d0",
   "metadata": {},
   "outputs": [
    {
     "data": {
      "text/plain": [
       "0.46418627203859764"
      ]
     },
     "execution_count": 71,
     "metadata": {},
     "output_type": "execute_result"
    }
   ],
   "source": [
    "mean_ap"
   ]
  }
 ],
 "metadata": {
  "kernelspec": {
   "display_name": "Python 3 (ipykernel)",
   "language": "python",
   "name": "python3"
  },
  "language_info": {
   "codemirror_mode": {
    "name": "ipython",
    "version": 3
   },
   "file_extension": ".py",
   "mimetype": "text/x-python",
   "name": "python",
   "nbconvert_exporter": "python",
   "pygments_lexer": "ipython3",
   "version": "3.12.3"
  }
 },
 "nbformat": 4,
 "nbformat_minor": 5
}
